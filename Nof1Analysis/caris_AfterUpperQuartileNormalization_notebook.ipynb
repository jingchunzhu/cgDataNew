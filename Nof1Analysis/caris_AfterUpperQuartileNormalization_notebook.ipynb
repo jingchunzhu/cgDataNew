{
 "cells": [
  {
   "cell_type": "code",
   "execution_count": null,
   "metadata": {
    "collapsed": false
   },
   "outputs": [],
   "source": [
    "Nof1_sample = raw_input('Enter sample name (e.g. BC-22): ') or \"BC-22\"\n",
    "import string\n",
    "Nof1_sample = string.strip(Nof1_sample)\n",
    "print Nof1_sample"
   ]
  },
  {
   "cell_type": "code",
   "execution_count": null,
   "metadata": {
    "collapsed": false
   },
   "outputs": [],
   "source": [
    "import sys\n",
    "sys.path.insert(0,\"../xena/\")\n",
    "import xena_datasetlist\n",
    "\n",
    "import Nof1_functions\n",
    "\n",
    "comparison_item = {\n",
    "    \"hub\" : \"https://itomic.xenahubs.net\",\n",
    "    \"dataset\" : \"caris_tpm_log2_uq_7550.tsv\",\n",
    "    \"mode\" : \"probe\",\n",
    "    \"name\" : \"caris_uq\",\n",
    "    \"label\" : \"caris_uq\",\n",
    "    \"log2Theta\" : 0.001\n",
    "}\n",
    "\n",
    "#comparison_item = {\n",
    "#    \"hub\" : \"https://itomic.xenahubs.net\",\n",
    "#    \"dataset\" : \"ITOMIC.ComBat.NonParm.xena\",\n",
    "#    \"mode\" : \"probe\",\n",
    "#    \"name\" : \"ITOMIC_combat\",\n",
    "#    \"label\" : \"ITOMIC_combat\",\n",
    "#    \"log2Theta\" : 0.001\n",
    "#}"
   ]
  },
  {
   "cell_type": "markdown",
   "metadata": {},
   "source": [
    "# check sample"
   ]
  },
  {
   "cell_type": "code",
   "execution_count": null,
   "metadata": {
    "collapsed": false
   },
   "outputs": [],
   "source": [
    "if (Nof1_functions.checkSamples (Nof1_sample, comparison_item[\"hub\"], comparison_item[\"dataset\"])):\n",
    "    sys.exit()\n",
    "else:\n",
    "    print \"pass\""
   ]
  },
  {
   "cell_type": "markdown",
   "metadata": {},
   "source": [
    "# enter gene "
   ]
  },
  {
   "cell_type": "code",
   "execution_count": null,
   "metadata": {
    "collapsed": false
   },
   "outputs": [],
   "source": [
    "import re\n",
    "import string\n",
    "genes = raw_input('Enter a single or a list of gene names (e.g. PTEN or PTEN,TP53 or a column of gene names copied from a spreadsheet): ') or \"PTEN,TP53\"\n",
    "genes = filter(lambda x: x!='', re.split(';|,| |\\n', genes))\n",
    "new_genes =[]\n",
    "new_genes = [string.strip (genes[0])]\n",
    "for i in range (1, len(genes)):\n",
    "    gene = string.strip(genes[i])\n",
    "    if gene[0] ==\"(\" and gene[-1] ==\")\":\n",
    "        new_genes[-1] = new_genes[-1] + \" (\" + string.strip(gene[1:-1]) +\")\"\n",
    "    else:\n",
    "        new_genes.append(gene)\n",
    "genes = new_genes\n",
    "print genes"
   ]
  },
  {
   "cell_type": "markdown",
   "metadata": {},
   "source": [
    "# gene name mapping"
   ]
  },
  {
   "cell_type": "code",
   "execution_count": null,
   "metadata": {
    "collapsed": false
   },
   "outputs": [],
   "source": [
    "genaname_mapping = {\n",
    "    \"CTLA-4\" : \"CTLA4\",\n",
    "    \"LAG-3\" : \"LAG3\",\n",
    "    \"LIV-1\" : \"SLC39A6\",\n",
    "    \"PD-L1\" : \"CD274\",\n",
    "    \"PDL1\" : \"CD274\",\n",
    "    \"PD-L2\" : \"PDCD1LG2\",\n",
    "    \"PDL2\" : \"PDCD1LG2\",\n",
    "    \"TROP2\" : \"TACSTD2\",\n",
    "    \"p16\" : \"CDKN2A\",\n",
    "    \"p18\" : \"CDKN2C\",\n",
    "    \"MLL2\" :\"KMT2D\",\n",
    "    \"CD105\" : \"ENG\",\n",
    "    \"YB1\" : \"YBX1\",\n",
    "    \"MMP-9\": \"MMP9\",\n",
    "    \"CHK1\": \"CHEK1\",\n",
    "    \"CHK2\": \"CHEK2\",\n",
    "    \"FOXO3a\": \"FOXO3\",\n",
    "    \"IGFR1\": \"IGF1R\",\n",
    "    \"MLL3\": \"KMT2C\",\n",
    "    \"ROS\":\"ROS1\",\n",
    "    \"TSC\":\"TSC1\"\n",
    "}"
   ]
  },
  {
   "cell_type": "markdown",
   "metadata": {},
   "source": [
    "# check gene name"
   ]
  },
  {
   "cell_type": "code",
   "execution_count": null,
   "metadata": {
    "collapsed": false
   },
   "outputs": [],
   "source": [
    "def cleanGeneName_Funtion (originalLable):\n",
    "    return string.strip(string.split(originalLable,'(')[0])\n",
    "\n",
    "if (Nof1_functions.checkFields(genes, genaname_mapping, comparison_item[\"hub\"], comparison_item[\"dataset\"], cleanGeneName_Funtion)):\n",
    "    sys.exit()\n",
    "else:\n",
    "    print \"pass\""
   ]
  },
  {
   "cell_type": "markdown",
   "metadata": {},
   "source": [
    "# Enter output file name"
   ]
  },
  {
   "cell_type": "code",
   "execution_count": null,
   "metadata": {
    "collapsed": false
   },
   "outputs": [],
   "source": [
    "outputfile = raw_input('Enter output file name (e.g. ' + Nof1_sample + '_result.txt): ') or Nof1_sample + \"_result.txt\"\n",
    "outputfile = \"Results_Folder/\" + outputfile"
   ]
  },
  {
   "cell_type": "markdown",
   "metadata": {},
   "source": [
    "## Run - results at the bottom"
   ]
  },
  {
   "cell_type": "code",
   "execution_count": null,
   "metadata": {
    "collapsed": false,
    "scrolled": false
   },
   "outputs": [],
   "source": [
    "print genes\n",
    "\n",
    "TCGA_TNBC_uq_item = {\n",
    "    \"hub\" : \"https://itomic.xenahubs.net\",\n",
    "    \"dataset\" : \"itomic_TCGA_breast_uq_7550\",\n",
    "    \"mode\" : \"probe\",\n",
    "    \"name\" : \"TCGA_TNBC_uq\",\n",
    "    \"label\" : \"TCGA_TNBC_uq\",\n",
    "    \"samples\" : [\"TCGA-AO-A03U-01\", \"TCGA-EW-A1P7-01\", \"TCGA-A2-A04P-01\", \"TCGA-A8-A07O-01\", \"TCGA-BH-A0E6-01\", \"TCGA-BH-A0E0-01\", \"TCGA-B6-A0RU-01\", \"TCGA-AR-A0TU-01\", \"TCGA-AN-A0FX-01\", \"TCGA-E2-A14X-01\", \"TCGA-A2-A0SX-01\", \"TCGA-B6-A0RE-01\", \"TCGA-AO-A0JL-01\", \"TCGA-E2-A159-01\", \"TCGA-AQ-A04J-01\", \"TCGA-AR-A1AY-01\", \"TCGA-AO-A129-01\", \"TCGA-AO-A0J6-01\", \"TCGA-C8-A12V-01\", \"TCGA-AR-A0U4-01\", \"TCGA-BH-A18V-01\", \"TCGA-A2-A0CM-01\", \"TCGA-BH-A0B3-01\", \"TCGA-AR-A1AQ-01\", \"TCGA-E2-A1AZ-01\", \"TCGA-A2-A04Q-01\", \"TCGA-B6-A0RT-01\", \"TCGA-BH-A0BL-01\", \"TCGA-A2-A0T0-01\", \"TCGA-D8-A142-01\", \"TCGA-AN-A0AL-01\", \"TCGA-C8-A134-01\", \"TCGA-C8-A131-01\", \"TCGA-AR-A0TS-01\", \"TCGA-BH-A0BG-01\", \"TCGA-E2-A150-01\", \"TCGA-AR-A0U0-01\", \"TCGA-A8-A08R-01\", \"TCGA-A2-A0T2-01\", \"TCGA-B6-A0WX-01\", \"TCGA-A2-A0YM-01\", \"TCGA-A2-A0D2-01\", \"TCGA-BH-A18G-01\", \"TCGA-BH-A0WA-01\", \"TCGA-A7-A0DA-01\", \"TCGA-AO-A0J4-01\", \"TCGA-BH-A0AV-01\", \"TCGA-A8-A07C-01\", \"TCGA-E2-A14N-01\", \"TCGA-A2-A04T-01\", \"TCGA-D8-A147-01\", \"TCGA-AO-A12F-01\", \"TCGA-E2-A14R-01\", \"TCGA-AN-A0FL-01\", \"TCGA-AN-A0AT-01\", \"TCGA-AN-A04D-01\", \"TCGA-B6-A0IQ-01\", \"TCGA-A1-A0SO-01\", \"TCGA-D8-A143-01\", \"TCGA-A2-A0YE-01\", \"TCGA-A1-A0SK-01\", \"TCGA-AO-A124-01\", \"TCGA-A2-A04U-01\", \"TCGA-A2-A0D0-01\", \"TCGA-AN-A0G0-01\", \"TCGA-E2-A158-01\", \"TCGA-BH-A18T-01\", \"TCGA-E2-A1LL-01\", \"TCGA-E9-A1ND-01\", \"TCGA-EW-A1P8-01\", \"TCGA-D8-A27M-01\", \"TCGA-C8-A27B-01\", \"TCGA-A1-A0SP-01\", \"TCGA-E9-A22G-01\", \"TCGA-A7-A26I-01\", \"TCGA-A7-A26F-01\", \"TCGA-E2-A1LK-01\", \"TCGA-A7-A26G-01\", \"TCGA-E2-A1LH-01\", \"TCGA-E2-A1LI-01\", \"TCGA-D8-A1JL-01\", \"TCGA-EW-A1PB-01\", \"TCGA-BH-A1FC-01\", \"TCGA-E2-A1LS-01\", \"TCGA-EW-A1P4-01\", \"TCGA-C8-A1HJ-01\", \"TCGA-D8-A1XQ-01\", \"TCGA-D8-A27H-01\", \"TCGA-AR-A256-01\", \"TCGA-D8-A27F-01\", \"TCGA-D8-A1XK-01\", \"TCGA-EW-A1OW-01\", \"TCGA-E2-A1LG-01\", \"TCGA-AO-A0J2-01\", \"TCGA-A8-A09X-01\", \"TCGA-D8-A13Z-01\", \"TCGA-B6-A0RS-01\", \"TCGA-D8-A1JF-01\", \"TCGA-C8-A26X-01\", \"TCGA-EW-A1OV-01\", \"TCGA-C8-A26Y-01\", \"TCGA-AN-A0AR-01\", \"TCGA-BH-A0B9-01\", \"TCGA-E2-A1B6-01\", \"TCGA-A2-A1G6-01\", \"TCGA-A2-A0ST-01\", \"TCGA-BH-A0RX-01\", \"TCGA-A7-A0CE-01\", \"TCGA-BH-A18Q-01\", \"TCGA-AN-A0XU-01\", \"TCGA-AO-A128-01\", \"TCGA-AR-A1AI-01\", \"TCGA-AR-A1AR-01\", \"TCGA-BH-A0BW-01\", \"TCGA-B6-A0IK-01\", \"TCGA-D8-A1JG-01\", \"TCGA-E2-A1L7-01\", \"TCGA-B6-A0IE-01\", \"TCGA-BH-A1EW-01\", \"TCGA-B6-A0RG-01\", \"TCGA-B6-A0RN-01\", \"TCGA-EW-A1P1-01\"],\n",
    "    \"log2Theta\" : 0.001\n",
    "}\n",
    "\n",
    "Nant_uq_item = {\n",
    "    \"hub\" : \"https://itomic.xenahubs.net\",\n",
    "    \"dataset\" : \"latestCCI_EXP_G_TPM_log_uq_7550\",\n",
    "    \"mode\" : \"probe\",\n",
    "    \"name\" : \"Nant_uq\",\n",
    "    \"label\" : \"Nant_uq\",\n",
    "    \"samples\" : [\"15-3-B1\", \"17-2-B1\", \"17-2-B2\", \"18-2-B1\", \"20-1-B1\", \"20-1-B2\", \"13-1-B1\", \"15-1-B1\", \"15-1-B2\", \"14-1-B1\", \"14-1-B2\", \"09-3-B1\", \"10-3-B1\", \"10-3-B2\", \"16-1-B1\", \"16-1-B4\", \"17-1-B1\", \"14-2-B1\", \"14-2-B2\", \"16-2-B1\", \"16-2-B2\", \"18-1-B1\", \"18-1-B2\", \"18-0-B1\", \"18-0-B2\", \"18-0-B3\", \"18-0-B4\", \"18-0-B5\", \"19-0-B1\", \"19-0-B2\", \"19-0-B3\", \"14-3-B1\", \"15-2-B1\", \"14-5-B1\", \"15-4-B1\", \"23-0-B1\", \"23-0-B2\", \"23-0-B4\", \"24-0-B1\", \"24-1-B1\", \"24-1-B2\", \"25-1-B2\", \"22-1-B1\", \"22-1-B2\", \"19-2-B1\", \"23-1-B1\", \"14-5-B2\", \"22-0-B1\", \"26-2-B1\", \"20-2-B1\", \"20-2-B2\", \"28-1-B1\", \"29-0-B1\", \"29-1-B1\", \"10-4-B1\", \"30-0-B1\", \"30-0-B2\", \"30-1-B1\", \"30-1-B2\", \"28-2-B1\", \"29-2-B1\", \"31-0-B2\", \"31-0-B4\", \"31-0-B5\", \"24-3-B1\", \"28-3-B1\", \"BC-1-SP18-1901\", \"BC-3-S18-088344\", \"BC-13-N17-1238\", \"KLS-C18-2044\", \"LLL-N17-1238\", \"CH-18-00506\", \"BC-19-S18-165243\", \"NCEN-18-0007690\", \"S19-031645\", \"SP19-995\", \"SP19-1424\"],\n",
    "    \"log2Theta\" : 0.001\n",
    "}\n",
    "\n",
    "external_comparison_list = [\n",
    "    TCGA_TNBC_uq_item,\n",
    "    Nant_uq_item\n",
    "]\n",
    "\n",
    "import itomic_Nof1_withITOMIC\n",
    "itomic_Nof1_withITOMIC.itomic_Nof1(Nof1_sample, comparison_item, genes, genaname_mapping, external_comparison_list, outputfile)\n",
    "\n",
    "itomic_Nof1_withITOMIC.itomic_legend()"
   ]
  },
  {
   "cell_type": "code",
   "execution_count": null,
   "metadata": {
    "collapsed": true
   },
   "outputs": [],
   "source": []
  }
 ],
 "metadata": {
  "anaconda-cloud": {},
  "kernelspec": {
   "display_name": "Python [Root]",
   "language": "python",
   "name": "Python [Root]"
  },
  "language_info": {
   "codemirror_mode": {
    "name": "ipython",
    "version": 2
   },
   "file_extension": ".py",
   "mimetype": "text/x-python",
   "name": "python",
   "nbconvert_exporter": "python",
   "pygments_lexer": "ipython2",
   "version": "2.7.12"
  }
 },
 "nbformat": 4,
 "nbformat_minor": 0
}
