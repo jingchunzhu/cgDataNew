{
 "cells": [
  {
   "cell_type": "code",
   "execution_count": 1,
   "metadata": {},
   "outputs": [
    {
     "name": "stdout",
     "output_type": "stream",
     "text": [
      "Enter sample name (e.g. 10-3-B1): \n",
      "10-3-B1\n"
     ]
    }
   ],
   "source": [
    "Nof1_sample = input('Enter sample name (e.g. 10-3-B1): ') or \"10-3-B1\"\n",
    "print (Nof1_sample)"
   ]
  },
  {
   "cell_type": "code",
   "execution_count": 2,
   "metadata": {},
   "outputs": [
    {
     "name": "stderr",
     "output_type": "stream",
     "text": [
      "/home/ec2-user/.local/lib/python3.7/site-packages/xenaPython/__init__.py:110: FutureWarning: Possible nested set at position 7\n",
      "  re.sub(r\"^[^[]+[[]([^]]*)[]].*$\", r\"\\1\", query, flags=re.DOTALL))\n"
     ]
    }
   ],
   "source": [
    "import sys\n",
    "sys.path.insert(0,\"../xena/\")\n",
    "import xena_datasetlist\n",
    "\n",
    "import Nof1_functions\n",
    "Nof1_item = {\n",
    "    \"hub\" : \"https://itomic.xenahubs.net\",\n",
    "    \"dataset\" : \"latestCCI_EXP_G_TPM_log\",\n",
    "    \"mode\" : \"probe\",\n",
    "    \"name\" : \"itomic_Nof1\",\n",
    "    \"label\" : \"itomic_Nof1\",\n",
    "    \"samples\" : [Nof1_sample],\n",
    "    \"log2Theta\" : 0.001\n",
    "}"
   ]
  },
  {
   "cell_type": "markdown",
   "metadata": {},
   "source": [
    "# check sample"
   ]
  },
  {
   "cell_type": "code",
   "execution_count": 3,
   "metadata": {},
   "outputs": [
    {
     "name": "stdout",
     "output_type": "stream",
     "text": [
      "pass\n"
     ]
    }
   ],
   "source": [
    "if (Nof1_functions.checkSamples (Nof1_sample, Nof1_item[\"hub\"], Nof1_item[\"dataset\"])):\n",
    "    sys.exit()\n",
    "else:\n",
    "    print (\"pass\")"
   ]
  },
  {
   "cell_type": "markdown",
   "metadata": {},
   "source": [
    "# enter gene "
   ]
  },
  {
   "cell_type": "code",
   "execution_count": 4,
   "metadata": {},
   "outputs": [
    {
     "name": "stdout",
     "output_type": "stream",
     "text": [
      "Enter a single or a list of gene names (e.g. PTEN or PTEN,TP53 or a column of gene names copied from a spreadsheet): \n",
      "['PTEN', 'TP53']\n"
     ]
    }
   ],
   "source": [
    "import re\n",
    "genes = input('Enter a single or a list of gene names (e.g. PTEN or PTEN,TP53 or a column of gene names copied from a spreadsheet): ') or \"PTEN,TP53\"\n",
    "genes = list(filter(lambda x: x!='', re.split(';|,| |\\n', genes)))\n",
    "new_genes = [genes[0].strip ()]\n",
    "for i in range (1, len(genes)):\n",
    "    gene = genes[i].strip()\n",
    "    if gene[0] ==\"(\" and gene[-1] ==\")\":\n",
    "        new_genes[-1] = new_genes[-1] + \" (\" + string.strip(gene[1:-1]) +\")\"\n",
    "    else:\n",
    "        new_genes.append(gene)\n",
    "genes = new_genes\n",
    "print (genes)"
   ]
  },
  {
   "cell_type": "markdown",
   "metadata": {},
   "source": [
    "# gene name mapping"
   ]
  },
  {
   "cell_type": "code",
   "execution_count": 5,
   "metadata": {},
   "outputs": [],
   "source": [
    "genaname_mapping ={\n",
    "    \"CTLA-4\" : \"CTLA4\",\n",
    "    \"LAG-3\" : \"LAG3\",\n",
    "    \"LIV-1\" : \"SLC39A6\",\n",
    "    \"PD-L1\" : \"CD274\",\n",
    "    \"PDL1\" : \"CD274\",\n",
    "    \"PD-L2\" : \"PDCD1LG2\",\n",
    "    \"PDL2\" : \"PDCD1LG2\",\n",
    "    \"TROP2\" : \"TACSTD2\",\n",
    "    \"p16\" : \"CDKN2A\",\n",
    "    \"p18\" : \"CDKN2C\",\n",
    "    \"MLL2\" :\"KMT2D\",\n",
    "    \"CD105\" : \"ENG\",\n",
    "    \"YB1\" : \"YBX1\",\n",
    "    \"MMP-9\": \"MMP9\",\n",
    "    \"CHK1\": \"CHEK1\",\n",
    "    \"CHK2\": \"CHEK2\",\n",
    "    \"FOXO3a\": \"FOXO3\",\n",
    "    \"IGFR1\": \"IGF1R\",\n",
    "    \"MLL3\": \"KMT2C\",\n",
    "    \"ROS\":\"ROS1\",\n",
    "    \"TSC\":\"TSC1\"\n",
    "}"
   ]
  },
  {
   "cell_type": "markdown",
   "metadata": {},
   "source": [
    "# check gene name"
   ]
  },
  {
   "cell_type": "code",
   "execution_count": 6,
   "metadata": {},
   "outputs": [
    {
     "name": "stdout",
     "output_type": "stream",
     "text": [
      "pass\n"
     ]
    }
   ],
   "source": [
    "def cleanGeneName_Funtion (originalLable):\n",
    "    return originalLable.split('(')[0].strip()\n",
    "\n",
    "if (Nof1_functions.checkFields(genes, genaname_mapping, Nof1_item[\"hub\"], Nof1_item[\"dataset\"], cleanGeneName_Funtion)):\n",
    "    sys.exit()\n",
    "else:\n",
    "    print (\"pass\")"
   ]
  },
  {
   "cell_type": "markdown",
   "metadata": {},
   "source": [
    "# Enter output file name"
   ]
  },
  {
   "cell_type": "code",
   "execution_count": 7,
   "metadata": {},
   "outputs": [
    {
     "name": "stdout",
     "output_type": "stream",
     "text": [
      "Enter output file name (e.g. 10-3-B1_result.txt): \n"
     ]
    }
   ],
   "source": [
    "outputfile = input('Enter output file name (e.g. ' + Nof1_sample + '_result.txt): ') or Nof1_sample + \"_result.txt\"\n",
    "outputfile = \"Results_Folder/\" + outputfile"
   ]
  },
  {
   "cell_type": "markdown",
   "metadata": {},
   "source": [
    "## Run - results at the bottom"
   ]
  },
  {
   "cell_type": "code",
   "execution_count": 8,
   "metadata": {
    "scrolled": false
   },
   "outputs": [
    {
     "name": "stdout",
     "output_type": "stream",
     "text": [
      "['PTEN', 'TP53']\n",
      "\n",
      "Sample:  10-3-B1\n",
      "Gene: PTEN\n",
      "log2(TPM): 4.098 TPM: 17.12\n",
      "\n",
      "TCGA_TNBC ( n= 0 ):\n",
      "rank: 94\n",
      "Rank %: 23.77%\n",
      "\n",
      "TCGA_BRCA_tumors ( n= 0 ):\n",
      "rank: 961\n",
      "Rank %: 12.65%\n"
     ]
    },
    {
     "name": "stderr",
     "output_type": "stream",
     "text": [
      "/home/ec2-user/.local/lib/python3.7/site-packages/numpy/core/fromnumeric.py:3622: RuntimeWarning: Degrees of freedom <= 0 for slice\n",
      "  **kwargs)\n"
     ]
    },
    {
     "name": "stdout",
     "output_type": "stream",
     "text": [
      "\n",
      "Sample:  10-3-B1\n",
      "Gene: TP53\n",
      "log2(TPM): 5.286 TPM: 39.02\n",
      "\n",
      "TCGA_TNBC ( n= 0 ):\n",
      "rank: 66\n",
      "Rank %: 46.72%\n",
      "\n",
      "TCGA_BRCA_tumors ( n= 0 ):\n",
      "rank: 599\n",
      "Rank %: 45.59%\n",
      "\n",
      "Expression values are sorted from high to low.\n",
      "Low rank means high expression.\n",
      "Rank % is the percentile of samples with lower expression than sample of interest.\n",
      "Higher Rank %  means higher expression.\n",
      "\n"
     ]
    }
   ],
   "source": [
    "print (genes)\n",
    "import xena_datasetlist\n",
    "\n",
    "comparison_list = [\n",
    "    xena_datasetlist.TCGA_TNBC_geneExp,\n",
    "    xena_datasetlist.TCGA_BRCA_tumors_geneExp,\n",
    "    #xena_datasetlist.GTEX_breast_geneExp,\n",
    "    #xena_datasetlist.TCGA_Breast_Basal_geneExp,\n",
    "    #xena_datasetlist.TCGA_Breast_Her2_geneExp,\n",
    "    #xena_datasetlist.TCGA_Breast_LumA_geneExp,\n",
    "    #xena_datasetlist.TCGA_Breast_LumB_geneExp,\n",
    "    #xena_datasetlist.TCGA_Breast_Adjacent_Normal_geneExp,\n",
    "]\n",
    "\n",
    "import itomic_Nof1\n",
    "itomic_Nof1.itomic_Nof1(Nof1_item, genes, genaname_mapping, comparison_list, outputfile)\n",
    "\n",
    "itomic_Nof1.itomic_legend()"
   ]
  },
  {
   "cell_type": "code",
   "execution_count": null,
   "metadata": {},
   "outputs": [],
   "source": []
  }
 ],
 "metadata": {
  "anaconda-cloud": {},
  "kernelspec": {
   "display_name": "Python 3",
   "language": "python",
   "name": "python3"
  },
  "language_info": {
   "codemirror_mode": {
    "name": "ipython",
    "version": 3
   },
   "file_extension": ".py",
   "mimetype": "text/x-python",
   "name": "python",
   "nbconvert_exporter": "python",
   "pygments_lexer": "ipython3",
   "version": "3.7.6"
  }
 },
 "nbformat": 4,
 "nbformat_minor": 1
}
