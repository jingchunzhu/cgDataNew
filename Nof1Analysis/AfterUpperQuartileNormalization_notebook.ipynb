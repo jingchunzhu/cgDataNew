{
 "cells": [
  {
   "cell_type": "code",
   "execution_count": 1,
   "metadata": {},
   "outputs": [
    {
     "name": "stdout",
     "output_type": "stream",
     "text": [
      "Enter sample name (e.g. 10-3-B1): \n",
      "10-3-B1\n"
     ]
    }
   ],
   "source": [
    "Nof1_sample = input('Enter sample name (e.g. 10-3-B1): ') or \"10-3-B1\"\n",
    "Nof1_sample = Nof1_sample.strip()\n",
    "print (Nof1_sample)"
   ]
  },
  {
   "cell_type": "code",
   "execution_count": 2,
   "metadata": {},
   "outputs": [
    {
     "name": "stderr",
     "output_type": "stream",
     "text": [
      "/home/ec2-user/.local/lib/python3.7/site-packages/xenaPython/__init__.py:110: FutureWarning: Possible nested set at position 7\n",
      "  re.sub(r\"^[^[]+[[]([^]]*)[]].*$\", r\"\\1\", query, flags=re.DOTALL))\n"
     ]
    }
   ],
   "source": [
    "import sys\n",
    "sys.path.insert(0,\"../xena/\")\n",
    "import xena_datasetlist\n",
    "\n",
    "import Nof1_functions\n",
    "\n",
    "comparison_item = {\n",
    "    \"hub\" : \"https://itomic.xenahubs.net\",\n",
    "    \"dataset\" : \"latestCCI_EXP_G_TPM_log_uq_7550\",\n",
    "    \"mode\" : \"probe\",\n",
    "    \"name\" : \"Nant_uq\",\n",
    "    \"label\" : \"Nant_uq\",\n",
    "    # n= 30\n",
    "    #\"samples\" : [\"17-2-B1\",\"22-1-B1\",\"19-2-B1\",\"13-1-B1\",\"15-1-B1\",\"15-1-B2\",\"14-1-B1\",\"14-1-B2\",\"09-3-B1\",\"10-3-B1\",\"10-3-B2\",\"16-1-B1\",\"16-1-B4\",\"17-1-B1\",\"14-2-B1\",\"14-2-B2\",\"16-2-B1\",\"16-2-B2\",\"18-1-B1\",\"18-1-B2\",\"18-0-B1\",\"18-0-B2\",\"18-0-B3\",\"18-0-B4\",\"18-0-B5\",\"19-0-B1\",\"19-0-B2\",\"19-0-B3\",\"14-3-B1\",\"15-2-B1\"],\n",
    "    \"log2Theta\" : 0.001\n",
    "}\n",
    "\n",
    "#comparison_item = {\n",
    "#    \"hub\" : \"https://itomic.xenahubs.net\",\n",
    "#    \"dataset\" : \"ITOMIC.ComBat.NonParm.xena\",\n",
    "#    \"mode\" : \"probe\",\n",
    "#    \"name\" : \"ITOMIC_combat\",\n",
    "#    \"label\" : \"ITOMIC_combat\",\n",
    "#    \"log2Theta\" : 0.001\n",
    "#}"
   ]
  },
  {
   "cell_type": "markdown",
   "metadata": {},
   "source": [
    "# check sample"
   ]
  },
  {
   "cell_type": "code",
   "execution_count": 3,
   "metadata": {},
   "outputs": [
    {
     "name": "stdout",
     "output_type": "stream",
     "text": [
      "pass\n"
     ]
    }
   ],
   "source": [
    "if (Nof1_functions.checkSamples (Nof1_sample, comparison_item[\"hub\"], comparison_item[\"dataset\"])):\n",
    "    sys.exit()\n",
    "else:\n",
    "    print (\"pass\")"
   ]
  },
  {
   "cell_type": "markdown",
   "metadata": {},
   "source": [
    "# enter gene "
   ]
  },
  {
   "cell_type": "code",
   "execution_count": 4,
   "metadata": {},
   "outputs": [
    {
     "name": "stdout",
     "output_type": "stream",
     "text": [
      "Enter a single or a list of gene names (e.g. PTEN or PTEN,TP53 or a column of gene names copied from a spreadsheet): \n",
      "['PTEN', 'TP53']\n"
     ]
    }
   ],
   "source": [
    "import re\n",
    "genes = input('Enter a single or a list of gene names (e.g. PTEN or PTEN,TP53 or a column of gene names copied from a spreadsheet): ') or \"PTEN,TP53\"\n",
    "genes = list(filter(lambda x: x!='', re.split(';|,| |\\n', genes)))\n",
    "new_genes = [genes[0].strip()]\n",
    "for i in range (1, len(genes)):\n",
    "    gene = genes[i].strip()\n",
    "    if gene[0] ==\"(\" and gene[-1] ==\")\":\n",
    "        new_genes[-1] = new_genes[-1] + \" (\" + gene[1:-1].strip() +\")\"\n",
    "    else:\n",
    "        new_genes.append(gene)\n",
    "genes = new_genes\n",
    "print (genes)"
   ]
  },
  {
   "cell_type": "markdown",
   "metadata": {},
   "source": [
    "# gene name mapping"
   ]
  },
  {
   "cell_type": "code",
   "execution_count": 5,
   "metadata": {},
   "outputs": [],
   "source": [
    "genaname_mapping = {\n",
    "    \"CTLA-4\" : \"CTLA4\",\n",
    "    \"LAG-3\" : \"LAG3\",\n",
    "    \"LIV-1\" : \"SLC39A6\",\n",
    "    \"PD-L1\" : \"CD274\",\n",
    "    \"PDL1\" : \"CD274\",\n",
    "    \"PD-L2\" : \"PDCD1LG2\",\n",
    "    \"PDL2\" : \"PDCD1LG2\",\n",
    "    \"TROP2\" : \"TACSTD2\",\n",
    "    \"p16\" : \"CDKN2A\",\n",
    "    \"p18\" : \"CDKN2C\",\n",
    "    \"MLL2\" :\"KMT2D\",\n",
    "    \"CD105\" : \"ENG\",\n",
    "    \"YB1\" : \"YBX1\",\n",
    "    \"MMP-9\": \"MMP9\",\n",
    "    \"CHK1\": \"CHEK1\",\n",
    "    \"CHK2\": \"CHEK2\",\n",
    "    \"FOXO3a\": \"FOXO3\",\n",
    "    \"IGFR1\": \"IGF1R\",\n",
    "    \"MLL3\": \"KMT2C\",\n",
    "    \"ROS\":\"ROS1\",\n",
    "    \"TSC\":\"TSC1\"\n",
    "}"
   ]
  },
  {
   "cell_type": "markdown",
   "metadata": {},
   "source": [
    "# check gene name"
   ]
  },
  {
   "cell_type": "code",
   "execution_count": 8,
   "metadata": {},
   "outputs": [
    {
     "name": "stdout",
     "output_type": "stream",
     "text": [
      "pass\n"
     ]
    }
   ],
   "source": [
    "def cleanGeneName_Funtion (originalLable):\n",
    "    return originalLable.split('(')[0].strip()\n",
    "\n",
    "if (Nof1_functions.checkFields(genes, genaname_mapping, comparison_item[\"hub\"], comparison_item[\"dataset\"], cleanGeneName_Funtion)):\n",
    "    sys.exit()\n",
    "else:\n",
    "    print (\"pass\")"
   ]
  },
  {
   "cell_type": "markdown",
   "metadata": {},
   "source": [
    "# Enter output file name"
   ]
  },
  {
   "cell_type": "code",
   "execution_count": 10,
   "metadata": {},
   "outputs": [
    {
     "name": "stdout",
     "output_type": "stream",
     "text": [
      "Enter output file name (e.g. 10-3-B1_result.txt): \n"
     ]
    }
   ],
   "source": [
    "outputfile = input('Enter output file name (e.g. ' + Nof1_sample + '_result.txt): ') or Nof1_sample + \"_result.txt\"\n",
    "outputfile = \"Results_Folder/\" + outputfile"
   ]
  },
  {
   "cell_type": "markdown",
   "metadata": {},
   "source": [
    "## Run - results at the bottom"
   ]
  },
  {
   "cell_type": "code",
   "execution_count": 13,
   "metadata": {
    "scrolled": false
   },
   "outputs": [
    {
     "name": "stdout",
     "output_type": "stream",
     "text": [
      "['PTEN', 'TP53']\n"
     ]
    },
    {
     "ename": "AttributeError",
     "evalue": "'dict' object has no attribute 'has_key'",
     "output_type": "error",
     "traceback": [
      "\u001b[0;31m---------------------------------------------------------------------------\u001b[0m",
      "\u001b[0;31mAttributeError\u001b[0m                            Traceback (most recent call last)",
      "\u001b[0;32m<ipython-input-13-0e456b90bac5>\u001b[0m in \u001b[0;36m<module>\u001b[0;34m\u001b[0m\n\u001b[1;32m     18\u001b[0m \u001b[0;34m\u001b[0m\u001b[0m\n\u001b[1;32m     19\u001b[0m \u001b[0;32mimport\u001b[0m \u001b[0mitomic_Nof1_withITOMIC\u001b[0m\u001b[0;34m\u001b[0m\u001b[0;34m\u001b[0m\u001b[0m\n\u001b[0;32m---> 20\u001b[0;31m \u001b[0mitomic_Nof1_withITOMIC\u001b[0m\u001b[0;34m.\u001b[0m\u001b[0mitomic_Nof1\u001b[0m\u001b[0;34m(\u001b[0m\u001b[0mNof1_sample\u001b[0m\u001b[0;34m,\u001b[0m \u001b[0mcomparison_item\u001b[0m\u001b[0;34m,\u001b[0m \u001b[0mgenes\u001b[0m\u001b[0;34m,\u001b[0m \u001b[0mgenaname_mapping\u001b[0m\u001b[0;34m,\u001b[0m \u001b[0mexternal_comparison_list\u001b[0m\u001b[0;34m,\u001b[0m \u001b[0moutputfile\u001b[0m\u001b[0;34m)\u001b[0m\u001b[0;34m\u001b[0m\u001b[0;34m\u001b[0m\u001b[0m\n\u001b[0m\u001b[1;32m     21\u001b[0m \u001b[0;34m\u001b[0m\u001b[0m\n\u001b[1;32m     22\u001b[0m \u001b[0mitomic_Nof1_withITOMIC\u001b[0m\u001b[0;34m.\u001b[0m\u001b[0mitomic_legend\u001b[0m\u001b[0;34m(\u001b[0m\u001b[0;34m)\u001b[0m\u001b[0;34m\u001b[0m\u001b[0;34m\u001b[0m\u001b[0m\n",
      "\u001b[0;32m~/wrangle/Nof1Analysis/itomic_Nof1_withITOMIC.py\u001b[0m in \u001b[0;36mitomic_Nof1\u001b[0;34m(Nof1_sample, Nof1_item, original_labels, geneMappping, external_comparison_list, outputfile)\u001b[0m\n\u001b[1;32m     52\u001b[0m \u001b[0;34m\u001b[0m\u001b[0m\n\u001b[1;32m     53\u001b[0m \u001b[0;32mdef\u001b[0m \u001b[0mitomic_Nof1\u001b[0m\u001b[0;34m(\u001b[0m\u001b[0mNof1_sample\u001b[0m\u001b[0;34m,\u001b[0m \u001b[0mNof1_item\u001b[0m\u001b[0;34m,\u001b[0m \u001b[0moriginal_labels\u001b[0m\u001b[0;34m,\u001b[0m \u001b[0mgeneMappping\u001b[0m\u001b[0;34m,\u001b[0m \u001b[0mexternal_comparison_list\u001b[0m\u001b[0;34m,\u001b[0m \u001b[0moutputfile\u001b[0m\u001b[0;34m)\u001b[0m\u001b[0;34m:\u001b[0m\u001b[0;34m\u001b[0m\u001b[0;34m\u001b[0m\u001b[0m\n\u001b[0;32m---> 54\u001b[0;31m     \u001b[0;32mif\u001b[0m \u001b[0mNof1_item\u001b[0m\u001b[0;34m.\u001b[0m\u001b[0mhas_key\u001b[0m\u001b[0;34m(\u001b[0m\u001b[0;34m\"samples\"\u001b[0m\u001b[0;34m)\u001b[0m\u001b[0;34m:\u001b[0m\u001b[0;34m\u001b[0m\u001b[0;34m\u001b[0m\u001b[0m\n\u001b[0m\u001b[1;32m     55\u001b[0m         \u001b[0mitomic_samples\u001b[0m \u001b[0;34m=\u001b[0m \u001b[0mNof1_item\u001b[0m\u001b[0;34m[\u001b[0m\u001b[0;34m\"samples\"\u001b[0m\u001b[0;34m]\u001b[0m\u001b[0;34m\u001b[0m\u001b[0;34m\u001b[0m\u001b[0m\n\u001b[1;32m     56\u001b[0m     \u001b[0;32melse\u001b[0m\u001b[0;34m:\u001b[0m\u001b[0;34m\u001b[0m\u001b[0;34m\u001b[0m\u001b[0m\n",
      "\u001b[0;31mAttributeError\u001b[0m: 'dict' object has no attribute 'has_key'"
     ]
    }
   ],
   "source": [
    "print (genes)\n",
    "\n",
    "TCGA_TNBC_uq_item = {\n",
    "    \"hub\" : \"https://itomic.xenahubs.net\",\n",
    "    \"dataset\" : \"itomic_TCGA_breast_uq_7550\",\n",
    "    \"mode\" : \"probe\",\n",
    "    \"name\" : \"TCGA_TNBC_uq\",\n",
    "    \"label\" : \"TCGA_TNBC_uq\",\n",
    "    \"samples\" : [\"TCGA-AO-A03U-01\", \"TCGA-EW-A1P7-01\", \"TCGA-A2-A04P-01\", \"TCGA-A8-A07O-01\", \"TCGA-BH-A0E6-01\", \"TCGA-BH-A0E0-01\", \"TCGA-B6-A0RU-01\", \"TCGA-AR-A0TU-01\", \"TCGA-AN-A0FX-01\", \"TCGA-E2-A14X-01\", \"TCGA-A2-A0SX-01\", \"TCGA-B6-A0RE-01\", \"TCGA-AO-A0JL-01\", \"TCGA-E2-A159-01\", \"TCGA-AQ-A04J-01\", \"TCGA-AR-A1AY-01\", \"TCGA-AO-A129-01\", \"TCGA-AO-A0J6-01\", \"TCGA-C8-A12V-01\", \"TCGA-AR-A0U4-01\", \"TCGA-BH-A18V-01\", \"TCGA-A2-A0CM-01\", \"TCGA-BH-A0B3-01\", \"TCGA-AR-A1AQ-01\", \"TCGA-E2-A1AZ-01\", \"TCGA-A2-A04Q-01\", \"TCGA-B6-A0RT-01\", \"TCGA-BH-A0BL-01\", \"TCGA-A2-A0T0-01\", \"TCGA-D8-A142-01\", \"TCGA-AN-A0AL-01\", \"TCGA-C8-A134-01\", \"TCGA-C8-A131-01\", \"TCGA-AR-A0TS-01\", \"TCGA-BH-A0BG-01\", \"TCGA-E2-A150-01\", \"TCGA-AR-A0U0-01\", \"TCGA-A8-A08R-01\", \"TCGA-A2-A0T2-01\", \"TCGA-B6-A0WX-01\", \"TCGA-A2-A0YM-01\", \"TCGA-A2-A0D2-01\", \"TCGA-BH-A18G-01\", \"TCGA-BH-A0WA-01\", \"TCGA-A7-A0DA-01\", \"TCGA-AO-A0J4-01\", \"TCGA-BH-A0AV-01\", \"TCGA-A8-A07C-01\", \"TCGA-E2-A14N-01\", \"TCGA-A2-A04T-01\", \"TCGA-D8-A147-01\", \"TCGA-AO-A12F-01\", \"TCGA-E2-A14R-01\", \"TCGA-AN-A0FL-01\", \"TCGA-AN-A0AT-01\", \"TCGA-AN-A04D-01\", \"TCGA-B6-A0IQ-01\", \"TCGA-A1-A0SO-01\", \"TCGA-D8-A143-01\", \"TCGA-A2-A0YE-01\", \"TCGA-A1-A0SK-01\", \"TCGA-AO-A124-01\", \"TCGA-A2-A04U-01\", \"TCGA-A2-A0D0-01\", \"TCGA-AN-A0G0-01\", \"TCGA-E2-A158-01\", \"TCGA-BH-A18T-01\", \"TCGA-E2-A1LL-01\", \"TCGA-E9-A1ND-01\", \"TCGA-EW-A1P8-01\", \"TCGA-D8-A27M-01\", \"TCGA-C8-A27B-01\", \"TCGA-A1-A0SP-01\", \"TCGA-E9-A22G-01\", \"TCGA-A7-A26I-01\", \"TCGA-A7-A26F-01\", \"TCGA-E2-A1LK-01\", \"TCGA-A7-A26G-01\", \"TCGA-E2-A1LH-01\", \"TCGA-E2-A1LI-01\", \"TCGA-D8-A1JL-01\", \"TCGA-EW-A1PB-01\", \"TCGA-BH-A1FC-01\", \"TCGA-E2-A1LS-01\", \"TCGA-EW-A1P4-01\", \"TCGA-C8-A1HJ-01\", \"TCGA-D8-A1XQ-01\", \"TCGA-D8-A27H-01\", \"TCGA-AR-A256-01\", \"TCGA-D8-A27F-01\", \"TCGA-D8-A1XK-01\", \"TCGA-EW-A1OW-01\", \"TCGA-E2-A1LG-01\", \"TCGA-AO-A0J2-01\", \"TCGA-A8-A09X-01\", \"TCGA-D8-A13Z-01\", \"TCGA-B6-A0RS-01\", \"TCGA-D8-A1JF-01\", \"TCGA-C8-A26X-01\", \"TCGA-EW-A1OV-01\", \"TCGA-C8-A26Y-01\", \"TCGA-AN-A0AR-01\", \"TCGA-BH-A0B9-01\", \"TCGA-E2-A1B6-01\", \"TCGA-A2-A1G6-01\", \"TCGA-A2-A0ST-01\", \"TCGA-BH-A0RX-01\", \"TCGA-A7-A0CE-01\", \"TCGA-BH-A18Q-01\", \"TCGA-AN-A0XU-01\", \"TCGA-AO-A128-01\", \"TCGA-AR-A1AI-01\", \"TCGA-AR-A1AR-01\", \"TCGA-BH-A0BW-01\", \"TCGA-B6-A0IK-01\", \"TCGA-D8-A1JG-01\", \"TCGA-E2-A1L7-01\", \"TCGA-B6-A0IE-01\", \"TCGA-BH-A1EW-01\", \"TCGA-B6-A0RG-01\", \"TCGA-B6-A0RN-01\", \"TCGA-EW-A1P1-01\"],\n",
    "    \"log2Theta\" : 0.001\n",
    "}\n",
    "\n",
    "external_comparison_list = [\n",
    "    TCGA_TNBC_uq_item\n",
    "    #xena_datasetlist.TCGA_TNBC_geneExp_Combat,\n",
    "    #xena_datasetlist.TCGA_BRCA_tumors_geneExp,\n",
    "]\n",
    "\n",
    "import itomic_Nof1_withITOMIC\n",
    "itomic_Nof1_withITOMIC.itomic_Nof1(Nof1_sample, comparison_item, genes, genaname_mapping, external_comparison_list, outputfile)\n",
    "\n",
    "itomic_Nof1_withITOMIC.itomic_legend()"
   ]
  },
  {
   "cell_type": "code",
   "execution_count": null,
   "metadata": {
    "collapsed": true
   },
   "outputs": [],
   "source": []
  }
 ],
 "metadata": {
  "anaconda-cloud": {},
  "kernelspec": {
   "display_name": "Python 3",
   "language": "python",
   "name": "python3"
  },
  "language_info": {
   "codemirror_mode": {
    "name": "ipython",
    "version": 3
   },
   "file_extension": ".py",
   "mimetype": "text/x-python",
   "name": "python",
   "nbconvert_exporter": "python",
   "pygments_lexer": "ipython3",
   "version": "3.7.6"
  }
 },
 "nbformat": 4,
 "nbformat_minor": 1
}
