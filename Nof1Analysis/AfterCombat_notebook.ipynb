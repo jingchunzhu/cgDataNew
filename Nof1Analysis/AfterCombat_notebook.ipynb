{
 "cells": [
  {
   "cell_type": "code",
   "execution_count": null,
   "metadata": {},
   "outputs": [],
   "source": [
    "Nof1_sample = input('Enter sample name (e.g. 10-3-B1): ') or \"10-3-B1\"\n",
    "print (Nof1_sample)"
   ]
  },
  {
   "cell_type": "code",
   "execution_count": null,
   "metadata": {},
   "outputs": [],
   "source": [
    "import sys\n",
    "sys.path.insert(0,\"../xena/\")\n",
    "import xena_datasetlist\n",
    "\n",
    "import Nof1_functions\n",
    "Nof1_item = {\n",
    "    \"hub\" : \"https://itomic.xenahubs.net\",\n",
    "    \"dataset\" : \"ITOMIC.ComBat.NonParm.xena\",\n",
    "    \"mode\" : \"probe\",\n",
    "    \"name\" : \"itomic_Nof1\",\n",
    "    \"label\" : \"itomic_Nof1\",\n",
    "    \"samples\" : [Nof1_sample],\n",
    "    \"log2Theta\" : 0.001\n",
    "}"
   ]
  },
  {
   "cell_type": "markdown",
   "metadata": {},
   "source": [
    "# check sample"
   ]
  },
  {
   "cell_type": "code",
   "execution_count": null,
   "metadata": {},
   "outputs": [],
   "source": [
    "if (Nof1_functions.checkSamples (Nof1_sample, Nof1_item[\"hub\"], Nof1_item[\"dataset\"])):\n",
    "    sys.exit()\n",
    "else:\n",
    "    print (\"pass\")"
   ]
  },
  {
   "cell_type": "markdown",
   "metadata": {},
   "source": [
    "# enter gene "
   ]
  },
  {
   "cell_type": "code",
   "execution_count": null,
   "metadata": {},
   "outputs": [],
   "source": [
    "import re\n",
    "genes = input('Enter a single or a list of gene names (e.g. PTEN or PTEN,TP53 or a column of gene names copied from a spreadsheet): ') or \"PTEN,TP53\"\n",
    "genes = list(filter(lambda x: x!='', re.split(';|,| |\\n', genes)))\n",
    "new_genes = [genes[0].strip()]\n",
    "for i in range (1, len(genes)):\n",
    "    gene = genes[i].strip()\n",
    "    if gene[0] ==\"(\" and gene[-1] ==\")\":\n",
    "        new_genes[-1] = new_genes[-1] + \" (\" + string.strip(gene[1:-1]) +\")\"\n",
    "    else:\n",
    "        new_genes.append(gene)\n",
    "genes = new_genes\n",
    "print (genes)"
   ]
  },
  {
   "cell_type": "markdown",
   "metadata": {},
   "source": [
    "# gene name mapping"
   ]
  },
  {
   "cell_type": "code",
   "execution_count": null,
   "metadata": {},
   "outputs": [],
   "source": [
    "genaname_mapping ={\n",
    "    \"CTLA-4\" : \"CTLA4\",\n",
    "    \"LAG-3\" : \"LAG3\",\n",
    "    \"LIV-1\" : \"SLC39A6\",\n",
    "    \"PD-L1\" : \"CD274\",\n",
    "    \"PDL1\" : \"CD274\",\n",
    "    \"PD-L2\" : \"PDCD1LG2\",\n",
    "    \"PDL2\" : \"PDCD1LG2\",\n",
    "    \"TROP2\" : \"TACSTD2\",\n",
    "    \"p16\" : \"CDKN2A\",\n",
    "    \"p18\" : \"CDKN2C\",\n",
    "    \"MLL2\" :\"KMT2D\",\n",
    "    \"CD105\" : \"ENG\",\n",
    "    \"YB1\" : \"YBX1\",\n",
    "    \"MMP-9\": \"MMP9\",\n",
    "    \"CHK1\": \"CHEK1\",\n",
    "    \"CHK2\": \"CHEK2\",\n",
    "    \"FOXO3a\": \"FOXO3\",\n",
    "    \"IGFR1\": \"IGF1R\",\n",
    "    \"MLL3\": \"KMT2C\",\n",
    "    \"ROS\":\"ROS1\",\n",
    "    \"TSC\":\"TSC1\"\n",
    "}"
   ]
  },
  {
   "cell_type": "markdown",
   "metadata": {},
   "source": [
    "# check gene name"
   ]
  },
  {
   "cell_type": "code",
   "execution_count": null,
   "metadata": {},
   "outputs": [],
   "source": [
    "def cleanGeneName_Funtion (originalLable):\n",
    "    return originalLable.split('(')[0].strip()\n",
    "\n",
    "if (Nof1_functions.checkFields(genes, genaname_mapping, Nof1_item[\"hub\"], Nof1_item[\"dataset\"], cleanGeneName_Funtion)):\n",
    "    sys.exit()\n",
    "else:\n",
    "    print (\"pass\")"
   ]
  },
  {
   "cell_type": "markdown",
   "metadata": {},
   "source": [
    "# Enter output file name"
   ]
  },
  {
   "cell_type": "code",
   "execution_count": null,
   "metadata": {},
   "outputs": [],
   "source": [
    "outputfile = input('Enter output file name (e.g. ' + Nof1_sample + '_result.txt): ') or Nof1_sample + \"_result.txt\"\n",
    "outputfile = \"Results_Folder/\" + outputfile"
   ]
  },
  {
   "cell_type": "markdown",
   "metadata": {},
   "source": [
    "## Run - results at the bottom"
   ]
  },
  {
   "cell_type": "code",
   "execution_count": null,
   "metadata": {
    "scrolled": false
   },
   "outputs": [],
   "source": [
    "print (genes)\n",
    "import xena_datasetlist\n",
    "\n",
    "comparison_list = [\n",
    "    xena_datasetlist.TCGA_TNBC_geneExp_Combat,\n",
    "    #xena_datasetlist.TCGA_BRCA_tumors_geneExp,\n",
    "]\n",
    "\n",
    "import itomic_Nof1\n",
    "itomic_Nof1.itomic_Nof1(Nof1_item, genes, genaname_mapping, comparison_list, outputfile)\n",
    "\n",
    "itomic_Nof1.itomic_legend()"
   ]
  },
  {
   "cell_type": "code",
   "execution_count": null,
   "metadata": {},
   "outputs": [],
   "source": []
  }
 ],
 "metadata": {
  "anaconda-cloud": {},
  "kernelspec": {
   "display_name": "Python 3",
   "language": "python",
   "name": "python3"
  },
  "language_info": {
   "codemirror_mode": {
    "name": "ipython",
    "version": 3
   },
   "file_extension": ".py",
   "mimetype": "text/x-python",
   "name": "python",
   "nbconvert_exporter": "python",
   "pygments_lexer": "ipython3",
   "version": "3.7.6"
  }
 },
 "nbformat": 4,
 "nbformat_minor": 1
}
